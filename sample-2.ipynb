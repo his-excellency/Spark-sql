{
 "cells": [
  {
   "cell_type": "markdown",
   "metadata": {},
   "source": [
    "Import All Spark related libraries and settings here"
   ]
  },
  {
   "cell_type": "code",
   "execution_count": 1,
   "metadata": {},
   "outputs": [],
   "source": [
    "import pyspark\n",
    "from pyspark.sql import SQLContext\n",
    "from pyspark.sql import SparkSession\n",
    "from pyspark.sql.types import *\n",
    "sc = pyspark.SparkContext(appName=\"Pi\")\n",
    "sqlcontext = SQLContext(sc)\n",
    "sqlcontext.sql(\"set spark.sql.shuffle.partitions=10\")\n",
    "import pyspark.sql.functions as F\n",
    "from pyspark.ml.recommendation import ALS\n",
    "from pyspark.ml.evaluation import *\n",
    "from pyspark.ml.feature import *\n",
    "from pyspark.sql import Row\n",
    "from pyspark.sql.window import Window"
   ]
  },
  {
   "cell_type": "code",
   "execution_count": 2,
   "metadata": {},
   "outputs": [],
   "source": [
    "from pyspark.mllib.classification import LogisticRegressionWithSGD\n",
    "from pyspark.mllib.regression import LabeledPoint\n",
    "from pyspark.ml.classification import MultilayerPerceptronClassifier\n",
    "from pyspark.ml.evaluation import MulticlassClassificationEvaluator\n",
    "from pyspark.ml.linalg import Vectors\n",
    "from pyspark.sql.types import _infer_schema"
   ]
  },
  {
   "cell_type": "code",
   "execution_count": 3,
   "metadata": {},
   "outputs": [],
   "source": [
    "spark = SparkSession.builder\\\n",
    ".master(\"local\")\\\n",
    ".appName(\"Pi\")\\\n",
    ".config(\"spark.some.config.option\",\"some-value\")\\\n",
    ".getOrCreate()"
   ]
  },
  {
   "cell_type": "markdown",
   "metadata": {},
   "source": [
    "Import all other python libraries here"
   ]
  },
  {
   "cell_type": "code",
   "execution_count": 4,
   "metadata": {},
   "outputs": [],
   "source": [
    "import numpy as np\n",
    "import pickle as pk\n",
    "import csv\n",
    "import json"
   ]
  },
  {
   "cell_type": "markdown",
   "metadata": {},
   "source": [
    "Begin Code"
   ]
  },
  {
   "cell_type": "code",
   "execution_count": 5,
   "metadata": {},
   "outputs": [],
   "source": [
    "xref = sqlcontext.read.parquet('_with_address')"
   ]
  },
  {
   "cell_type": "code",
   "execution_count": 1,
   "metadata": {},
   "outputs": [],
   "source": [
    "xref.columns"
   ]
  },
  {
   "cell_type": "code",
   "execution_count": null,
   "metadata": {},
   "outputs": [],
   "source": [
    "npiDB = sqlcontext.read.parquet('npi_with_address1')"
   ]
  },
  {
   "cell_type": "code",
   "execution_count": null,
   "metadata": {},
   "outputs": [],
   "source": [
    "npiDB.columns"
   ]
  },
  {
   "cell_type": "code",
   "execution_count": null,
   "metadata": {},
   "outputs": [],
   "source": [
    "npiFiltered = npiDB.select('*')\\\n",
    ".where(\"business_zip==33125\").orderBy('business_address_string')"
   ]
  },
  {
   "cell_type": "code",
   "execution_count": null,
   "metadata": {},
   "outputs": [],
   "source": [
    "xrefFiltered = xref.select('*')\\\n",
    ".where(\"business_zip==33125\").orderBy('business_address_string')"
   ]
  },
  {
   "cell_type": "code",
   "execution_count": null,
   "metadata": {},
   "outputs": [],
   "source": [
    "npiFiltered = npiFiltered.withColumn('business_address_string',\\\n",
    "                                       F.regexp_replace('business_address_string', ' ', ''))\n",
    "npiFiltered = npiFiltered.withColumn('practice_address_string',\\\n",
    "                                       F.regexp_replace('practice_address_string', ' ', ''))"
   ]
  },
  {
   "cell_type": "code",
   "execution_count": null,
   "metadata": {},
   "outputs": [],
   "source": [
    "addresses = npiFiltered.groupby(F.col('business_zip').alias('zip'),  F.col('business_address_string').alias('address'))\\\n",
    ".agg(F.collect_set(F.struct('npi','provider_last_name_legal_name','provider_first_name',\\\n",
    "              'business_address1','business_address2','business_city',\\\n",
    "               'business_state','business_zip','practice_address1','practice_address2',\\\n",
    "              'practice_city','practice_state','practice_zip')).alias('struct'))\n",
    "\n",
    "\n",
    "#.select(struct('npi','provider_last_name_legal_name','provider_first_name',\\\n",
    "#              'business_address1','business_address2','business_city',\\\n",
    "#               'business_state','business_zip','practice_address1','practice_address2',\\\n",
    "#              'practice_city','practice_state','practice_zip'))"
   ]
  },
  {
   "cell_type": "markdown",
   "metadata": {},
   "source": [
    "^^^^^^Forms a combination of relevant fields from NPI^^^^^\n",
    "\n",
    "The schema is shown below"
   ]
  },
  {
   "cell_type": "code",
   "execution_count": null,
   "metadata": {},
   "outputs": [],
   "source": [
    "addresses.printSchema()"
   ]
  },
  {
   "cell_type": "markdown",
   "metadata": {},
   "source": [
    "May ignore the code below for now"
   ]
  },
  {
   "cell_type": "code",
   "execution_count": null,
   "metadata": {},
   "outputs": [],
   "source": [
    "xref_group = xrefFiltered.groupby(F.col('zip').alias('zip'),   F.col('business_address_string').alias('address'))\\\n",
    ".agg(F.collect_set('rem_act_id').alias('r_id'))"
   ]
  },
  {
   "cell_type": "code",
   "execution_count": null,
   "metadata": {},
   "outputs": [],
   "source": [
    "addresses = addresses.join(xref_group, [\"zip\", \"address\"], how='full')"
   ]
  },
  {
   "cell_type": "code",
   "execution_count": null,
   "metadata": {},
   "outputs": [],
   "source": [
    "#addresses.show(truncate=False)\n",
    "xref.select('cust_name').where('rem_act_id==xxxx').show(truncate=False)"
   ]
  },
  {
   "cell_type": "code",
   "execution_count": null,
   "metadata": {},
   "outputs": [],
   "source": [
    "npi_practice = npiFiltered.groupby(F.col('practice_zip').alias('zip'), F.col('practice_address_string').alias('address')).agg(F.collect_set('npi').alias('practice_npis'))"
   ]
  },
  {
   "cell_type": "code",
   "execution_count": null,
   "metadata": {},
   "outputs": [],
   "source": [
    "npi_practice.show(5)"
   ]
  },
  {
   "cell_type": "code",
   "execution_count": null,
   "metadata": {},
   "outputs": [],
   "source": [
    "addresses = addresses.join(npi_practice, [\"zip\", \"address\"], how='full')"
   ]
  },
  {
   "cell_type": "code",
   "execution_count": null,
   "metadata": {},
   "outputs": [],
   "source": [
    "addresses.show(5)"
   ]
  },
  {
   "cell_type": "code",
   "execution_count": null,
   "metadata": {},
   "outputs": [],
   "source": [
    "addresses = addresses.withColumn('No',F.monotonically_increasing_id())"
   ]
  },
  {
   "cell_type": "code",
   "execution_count": null,
   "metadata": {},
   "outputs": [],
   "source": [
    "tmpDf = addresses.select('business_npis','practice_npis').\\\n",
    "rdd.map(lambda x: (x.business_npis or x.practice_npis\\\n",
    "        if x.business_npis==None or x.practice_npis==None\\\n",
    "        else x.business_npis+x.practice_npis,)).toDF([\"All_npis\"])"
   ]
  },
  {
   "cell_type": "code",
   "execution_count": null,
   "metadata": {},
   "outputs": [],
   "source": [
    "tmpDf = tmpDf.withColumn('No',F.monotonically_increasing_id())"
   ]
  },
  {
   "cell_type": "code",
   "execution_count": null,
   "metadata": {},
   "outputs": [],
   "source": [
    "addresses = addresses.join(tmpDf,on=['No'])\\\n",
    ".drop('No','business_npis','practice_npis')"
   ]
  },
  {
   "cell_type": "code",
   "execution_count": null,
   "metadata": {
    "scrolled": false
   },
   "outputs": [],
   "source": [
    "addresses = addresses.orderBy('address')\n",
    "addresses.where(F.col('remedy_id').isNotNull()).show()"
   ]
  },
  {
   "cell_type": "code",
   "execution_count": null,
   "metadata": {},
   "outputs": [],
   "source": [
    "#dx = addresses.select('remedy_id').head(20)[0].remedy_id\n",
    "#print(dx)\n",
    "\n",
    "addresses.select(F.explode('remedy_id')).show(20)\n"
   ]
  },
  {
   "cell_type": "code",
   "execution_count": null,
   "metadata": {},
   "outputs": [],
   "source": []
  },
  {
   "cell_type": "code",
   "execution_count": null,
   "metadata": {},
   "outputs": [],
   "source": []
  },
  {
   "cell_type": "code",
   "execution_count": null,
   "metadata": {},
   "outputs": [],
   "source": [
    "baddr = BsPracAddr.groupby('business_address_string').agg(F.collect_set('npi')\\\n",
    "                                                          .alias(\"npis\"))"
   ]
  },
  {
   "cell_type": "code",
   "execution_count": null,
   "metadata": {},
   "outputs": [],
   "source": [
    "baddr.show()"
   ]
  },
  {
   "cell_type": "code",
   "execution_count": null,
   "metadata": {},
   "outputs": [],
   "source": [
    "paddr = BsPracAddr.groupby('practice_address_string').agg(F.collect_set('npi')\\\n",
    "                                                          .alias(\"npis2\"))"
   ]
  },
  {
   "cell_type": "code",
   "execution_count": null,
   "metadata": {},
   "outputs": [],
   "source": [
    "baddr = baddr.withColumn('No',F.monotonically_increasing_id())\n",
    "paddr = paddr.withColumn('No',F.monotonically_increasing_id())"
   ]
  },
  {
   "cell_type": "code",
   "execution_count": null,
   "metadata": {},
   "outputs": [],
   "source": [
    "paddr = paddr.join(baddr[\"No\",\"npis\"],on=[\"No\"])"
   ]
  },
  {
   "cell_type": "code",
   "execution_count": null,
   "metadata": {},
   "outputs": [],
   "source": [
    "paddr.show()"
   ]
  },
  {
   "cell_type": "code",
   "execution_count": null,
   "metadata": {},
   "outputs": [],
   "source": [
    "paddr1 = paddr.select('npis2','npis').rdd.map(lambda x:(x.npis2+x.npis,))\\\n",
    ".toDF(['combin'])"
   ]
  },
  {
   "cell_type": "code",
   "execution_count": null,
   "metadata": {},
   "outputs": [],
   "source": [
    "paddr.show(truncate=False)"
   ]
  },
  {
   "cell_type": "code",
   "execution_count": null,
   "metadata": {},
   "outputs": [],
   "source": []
  }
 ],
 "metadata": {
  "kernelspec": {
   "display_name": "Python 3",
   "language": "python",
   "name": "python3"
  },
  "language_info": {
   "codemirror_mode": {
    "name": "ipython",
    "version": 3
   },
   "file_extension": ".py",
   "mimetype": "text/x-python",
   "name": "python",
   "nbconvert_exporter": "python",
   "pygments_lexer": "ipython3",
   "version": "3.6.5"
  }
 },
 "nbformat": 4,
 "nbformat_minor": 2
}
